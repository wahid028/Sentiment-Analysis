{
 "cells": [
  {
   "cell_type": "code",
   "execution_count": null,
   "metadata": {},
   "outputs": [],
   "source": [
    "import pandas as pd\n",
    "import numpy as np\n",
    "import nltk\n",
    "import spacy\n",
    "import re\n",
    "import pytorch_lightning as pl\n",
    "import torch\n",
    "import torch.nn as nn\n",
    "import torch.optim as optim\n",
    "nltk.download(\"all\")\n",
    "from bs4 import BeautifulSoup\n",
    "from torch.utils.data import Dataset, DataLoader\n",
    "from sklearn.model_selection import train_test_split\n",
    "from transformers import BertTokenizer, BertForSequenceClassification\n",
    "from pytorch_lightning.callbacks.early_stopping import EarlyStopping\n",
    "from pytorch_lightning.callbacks import LearningRateMonitor\n",
    "from pytorch_lightning import seed_everything\n",
    "from tqdm import tqdm\n",
    "from pytorch_lightning.callbacks import TQDMProgressBar\n",
    "import torchmetrics\n",
    "from torchmetrics.functional.classification import binary_accuracy, binary_f1_score, binary_precision, binary_recall, binary_confusion_matrix\n",
    "import matplotlib.pyplot as plt\n",
    "import seaborn as sns\n",
    "import warnings\n",
    "warnings.filterwarnings('ignore')"
   ]
  },
  {
   "cell_type": "code",
   "execution_count": 8,
   "metadata": {},
   "outputs": [
    {
     "name": "stdout",
     "output_type": "stream",
     "text": [
      "There are 2 GPU(s) available.\n",
      "We will use the GPU: NVIDIA TITAN RTX\n"
     ]
    }
   ],
   "source": [
    "# If there's a GPU available...\n",
    "if torch.cuda.is_available():    \n",
    "\n",
    "    # Tell PyTorch to use the GPU.    \n",
    "    device = torch.device(\"cuda\")\n",
    "\n",
    "    print('There are %d GPU(s) available.' % torch.cuda.device_count())\n",
    "\n",
    "    print('We will use the GPU:', torch.cuda.get_device_name(0))\n",
    "\n",
    "# If not...\n",
    "else:\n",
    "    print('No GPU available, using the CPU instead.')\n",
    "    device = torch.device(\"cpu\")"
   ]
  },
  {
   "cell_type": "code",
   "execution_count": 9,
   "metadata": {},
   "outputs": [],
   "source": [
    "train = pd.read_csv('data/train.csv')\n",
    "test = pd.read_csv('data/test.csv')"
   ]
  },
  {
   "cell_type": "code",
   "execution_count": 10,
   "metadata": {},
   "outputs": [],
   "source": [
    "# drop the rows with neutral sentiment as we are only interested in positive and negative sentiment\n",
    "train = train[train['sentiment'] != 'neutral']\n",
    "train = train.reset_index(drop=True)\n",
    "\n",
    "test = test[test['sentiment'] != 'neutral']\n",
    "test = test.reset_index(drop=True)\n",
    "\n",
    "#re-arranging the datasets\n",
    "train = train[['text','sentiment']]\n",
    "test = test[['text','sentiment']]\n",
    "\n",
    "#sentiment converter funtion\n",
    "def sentiment_ts(sentiment):\n",
    "    if sentiment == 'negative':\n",
    "        return 0\n",
    "    elif sentiment == 'positive':\n",
    "        return 1\n",
    "\n",
    "#convert the text sentimnet into number\n",
    "train['label'] = train['sentiment'].apply(sentiment_ts)\n",
    "test['label'] = test['sentiment'].apply(sentiment_ts)\n",
    "\n",
    "#final dataset\n",
    "train = train[['text','label']]\n",
    "test = test[['text','label']]\n",
    "\n",
    "# #sanity check\n",
    "# train.head()\n",
    "# test.head()\n",
    "# train.isnull().sum()\n",
    "# test.isnull().sum()"
   ]
  },
  {
   "cell_type": "code",
   "execution_count": 11,
   "metadata": {},
   "outputs": [],
   "source": [
    "#load the spacy model and functions related to stop words modification\n",
    "spacy_model = spacy.load('en_core_web_sm')\n",
    "from spacy.lang.en.stop_words import STOP_WORDS as spacy_stopwords\n",
    "# print(spacy_model.Defaults.stop_words) #print the default stop words list\n",
    "# spacy_model.Defaults.stop_words.remove(\"whatever\") #remove single stop word from the list\n",
    "# spacy_model.Defaults.stop_words -= {\"whatever\", \"whenever\"} #remove several stop words from the list\n",
    "# spacy_model.Defaults.stop_words.add(\"my_new_stopword\") #add single stop word in the default list\n",
    "# spacy_model.stop_words |= {\"my_new_stopword1\",\"my_new_stopword2\"} #add several stop words in the default list"
   ]
  },
  {
   "cell_type": "code",
   "execution_count": 12,
   "metadata": {},
   "outputs": [],
   "source": [
    "#most widely used shortforms are in the internet for social media data\n",
    "contra_Expan_Dict = {\n",
    "\"ain`t\": \"am not\",\"aren`t\": \"are not\",\"can`t\": \"cannot\",\"can`t`ve\": \"cannot have\",\"`cause\": \"because\",\n",
    "\"could`ve\": \"could have\",\"couldn`t\": \"could not\",\"couldn`t`ve\": \"could not have\",\"didn`t\": \"did not\",\n",
    "\"doesn`t\": \"does not\",\"don`t\": \"do not\",\"hadn`t\": \"had not\",\"hadn`t`ve\": \"had not have\",\"hasn`t\": \"has not\",\n",
    "\"haven`t\": \"have not\",\"he`d\": \"he would\",\"he`d`ve\": \"he would have\",\"he`ll\": \"he will\",\"he`ll`ve\": \"he will have\",\n",
    "\"he`s\": \"he is\",\"how`d\": \"how did\",\"how`d`y\": \"how do you\",\"how`ll\": \"how will\",\n",
    "\"how`s\": \"how does\",\"i`d\": \"i would\",\"i`d`ve\": \"i would have\",\"i`ll\": \"i will\",\"i`ll`ve\": \"i will have\",\"i`m\": \"i am\",\n",
    "\"i`ve\": \"i have\",\"isn`t\": \"is not\",\"it`d\": \"it would\",\"it`d`ve\": \"it would have\",\"it`ll\": \"it will\",\"it`ll`ve\": \"it will have\",\n",
    "\"it`s\": \"it is\",\"let`s\": \"let us\",\"ma`am\": \"madam\",\"mayn`t\": \"may not\",\"might`ve\": \"might have\",\"mightn`t\": \"might not\",\n",
    "\"mightn`t`ve\": \"might not have\",\"must`ve\": \"must have\",\"mustn`t\": \"must not\",\"mustn`t`ve\": \"must not have\",\"needn`t\": \"need not\",\"needn`t`ve\": \"need not have\",\n",
    "\"o`clock\": \"of the clock\",\"oughtn`t\": \"ought not\",\"oughtn`t`ve\": \"ought not have\",\"shan`t\": \"shall not\",\n",
    "\"sha`n`t\": \"shall not\",\"shan`t`ve\": \"shall not have\",\"she`d\": \"she would\",\n",
    "\"she`d`ve\": \"she would have\",\"she`ll\": \"she will\",\"she`ll`ve\": \"she will have\",\n",
    "\"she`s\": \"she is\",\"should`ve\": \"should have\",\"shouldn`t\": \"should not\",\"shouldn`t`ve\": \"should not have\",\"so`ve\": \"so have\",\"so`s\": \"so is\",\n",
    "\"that`d\": \"that would\",\"that`d`ve\": \"that would have\",\"that`s\": \"that is\",\"there`d\": \"there would\",\"there`d`ve\": \"there would have\",\"there`s\": \"there is\",\n",
    "\"they`d\": \"they would\",\"they`d`ve\": \"they would have\",\"they`ll\": \"they will\",\"they`ll`ve\": \"they will have\",\"they`re\": \"they are\",\"they`ve\": \"they have\",\n",
    "\"to`ve\": \"to have\",\"wasn`t\": \"was not\",\" u \": \" you \",\" ur \": \" your \",\" n \": \" and \",\"won`t\": \"would not\",\n",
    "\"dis\": \"this\",\"bak\": \"back\",\"brng\": \"bring\",\"sooo\": \"so\", \"afaik\" :\"as far as i know\",\n",
    "\"afk\" :\"away from keyboard\",\"asap\" :\"as soon as possible\",\"atk\" :\"at the keyboard\",\"atm\" :\"at the moment\",\"a3\" :\"anytime, anywhere, anyplace\",\n",
    "\"bak\" :\"back at keyboard\",\"bbl\" :\"be back later\",\"bbs\" :\"be back soon\",\"bfn\" :\"bye for now\",\"b4n\" :\"bye for now\",\"brb\" :\"be right back\",\n",
    "\"brt\" :\"be right there\",\"btw\" :\"by the way\",\"b4\" :\"before\",\"b4n\" :\"bye for now\",\"cu\" :\"see you\",\"cul8r\" :\"see you later\",\n",
    "\"cya\" :\"see you\",\"faq\" :\"frequently asked questions\",\"fc\" :\"fingers crossed\",\"fwiw\" :\"for what it's worth\",\"fyi\" :\"for your information\",\n",
    "\"gal\" :\"get a life\",\"gg\" :\"good game\",\"gn\" :\"good night\",\"gmta\" :\"great minds think alike\",\"gr8\" :\"great!\",\"g9\" :\"genius\",\n",
    "\"ic\" :\"i see\",\"icq\" :\"i seek you (also a chat program)\",\"ilu\" :\"ilu: i love you\",\"imho\" :\"in my honest/humble opinion\",\"imo\" :\"in my opinion\",\"iow\" :\"in other words\",\n",
    "\"irl\" :\"in real life\",\"kiss\" :\"keep it simple, stupid\",\"ldr\" :\"long distance relationship\",\"lmao\" :\"laugh my a.. off\",\"lol\" :\"laughing out loud\",\n",
    "\"ltns\" :\"long time no see\",\"l8r\" :\"later\",\"mte\" :\"my thoughts exactly\",\"m8\" :\"mate\",\"nrn\" :\"no reply necessary\",\"oic\" :\"oh i see\",\n",
    "\"pita\" :\"pain in the a..\",\"prt\" :\"party\",\"prw\" :\"parents are watching\",\"qpsa?   que pasa?\" :\"\",\"rofl\" :\"rolling on the floor laughing\",\n",
    "\"roflol\" :\"rolling on the floor laughing out loud\",\"rotflmao\" :\"rolling on the floor laughing my ass off\",\"sk8\" :\"skate\",\"stats\" :\"your sex and age\",\n",
    "\"asl\" :\"age, sex, location\",\"thx\" :\"thank you\",\"ttfn\" :\"ta-ta for now!\",\"ttyl\" :\"talk to you later\",\n",
    "\"u\" :\"you\",\"u2\" :\"you too\",\"u4e\" :\"yours for ever\",\"wb\" :\"welcome back\",\"wtf\" :\"what the fuck\",\"wtg\" :\"way to go!\",\n",
    "\"wuf\" :\"where are you from?\",\"w8\" :\"wait\",\"7k\" :\"sick:-d laugher\", \"w/out\": \"without\", \"ihavent\": \"i have not\"}"
   ]
  },
  {
   "cell_type": "code",
   "execution_count": 13,
   "metadata": {},
   "outputs": [],
   "source": [
    "#function for converting shortforms to it's expanded form based on contra_Expan_Dict\n",
    "def expanded_form(x):\n",
    "  if x in contra_Expan_Dict.keys():\n",
    "    return(contra_Expan_Dict[x])\n",
    "  else:\n",
    "    return(x)\n",
    "\n",
    "#function for removing url punctuations and digits\n",
    "def clean_with_re(x):\n",
    "  x=str(x)\n",
    "  x=re.sub(r'http[s]?://(?:[a-zA-Z]|[0-9]|[$-_@.&+]|[!*\\(\\),]|(?:%[0-9a-fA-F][0-9a-fA-F]))+',\" \", x) #Remove URLs\n",
    "  x=re.sub(r'[^\\w ]+', \"\", x) # Remove Punctuation-1\n",
    "  x=re.sub(r\"[,!@&\\'?\\.$%_]\",\" \", x) # Remove Punctuation-2\n",
    "  x=re.sub(r\"\\d+\",\" \", x) #Remove digits\n",
    "  return(x)\n",
    "\n",
    "#function for removing HTML Tags\n",
    "def remove_html(text):\n",
    "    return BeautifulSoup(text, \"lxml\").text\n",
    "\n",
    "#function for counting the words in the train dataset\n",
    "from collections import Counter\n",
    "cnt = Counter()\n",
    "for text in train[\"text\"].values:\n",
    "    for word in text.split():\n",
    "        cnt[word] += 1\n",
    "\n",
    "#function for removing the most frequent words\n",
    "cnt.most_common(10)\n",
    "FREQWORDS = set([w for (w, wc) in cnt.most_common(10)])\n",
    "def remove_freqwords(text):\n",
    "    return \" \".join([word for word in str(text).split() if word not in FREQWORDS])\n",
    "\n",
    "#function for removing the most rare words\n",
    "n_rare_words = 10\n",
    "RAREWORDS = set([w for (w, wc) in cnt.most_common()[:-n_rare_words-1:-1]])\n",
    "def remove_rarewords(text):\n",
    "    return \" \".join([word for word in str(text).split() if word not in RAREWORDS])\n",
    "\n",
    "#remove emojis\n",
    "def remove_emoji(string):\n",
    "    emoji_pattern = re.compile(\"[\"\n",
    "        u\"\\U0001F600-\\U0001F64F\"  # emoticons\n",
    "        u\"\\U0001F300-\\U0001F5FF\"  # symbols & pictographs\n",
    "        u\"\\U0001F680-\\U0001F6FF\"  # transport & map symbols\n",
    "        u\"\\U0001F1E0-\\U0001F1FF\"  # flags (iOS)\n",
    "        u\"\\U00002702-\\U000027B0\"\n",
    "        u\"\\U000024C2-\\U0001F251\"\n",
    "        \"]+\", flags=re.UNICODE)\n",
    "    return emoji_pattern.sub(r'', string)\n",
    "\n",
    "#function for removing duplicate white spaces\n",
    "def remove_duplicate_ws(x):\n",
    "  x=str(x)\n",
    "  x=\" \".join(re.split(\"\\s+\", x, flags=re.UNICODE))\n",
    "  return(x)"
   ]
  },
  {
   "cell_type": "code",
   "execution_count": 14,
   "metadata": {},
   "outputs": [],
   "source": [
    "def pre_processing(input_data, text_col):\n",
    "    #convert all the input texts into lower case.\n",
    "  input_data[\"text_col_clean\"]=input_data[text_col].apply(lambda x:str(x).lower())\n",
    "  #convert all the shortform of the input texts to its expanded form.\n",
    "  input_data[\"text_col_clean\"]=input_data[\"text_col_clean\"].apply(lambda x:[expanded_form(t) for t in str(x).split()])\n",
    "  #remove the stopwords based on spacy default package\n",
    "  input_data[\"text_col_clean\"]=input_data[\"text_col_clean\"].apply(lambda x:[t for t in x if t not in spacy_stopwords])\n",
    "  #remove the url, punctuations and digits from the input text\n",
    "  input_data[\"text_col_clean\"]=input_data[\"text_col_clean\"].apply(lambda x:clean_with_re(x))\n",
    "  #remove the HTML Tags from the input text\n",
    "  input_data[\"text_col_clean\"]=input_data[\"text_col_clean\"].apply(lambda x:remove_html(x))\n",
    "  #lemmatization - converting evary word to it's root form\n",
    "  input_data[\"text_col_clean\"]=input_data[\"text_col_clean\"].apply(lambda x:\" \".join([t.lemma_ for t in spacy_model(str(x))if t.lemma_ !=\"-PRON-\" ]))\n",
    "  #remove the most frequents words\n",
    "  input_data[\"text_col_clean\"]=input_data[\"text_col_clean\"].apply(lambda x:remove_freqwords(x))\n",
    "  #remove the most rare words\n",
    "  input_data[\"text_col_clean\"]=input_data[\"text_col_clean\"].apply(lambda x:remove_rarewords(x))\n",
    "  #remove the emojis\n",
    "  input_data[\"text_col_clean\"]=input_data[\"text_col_clean\"].apply(lambda x:remove_emoji(x))\n",
    "  #remove the duplicate whitespace.\n",
    "  input_data[\"text_col_clean\"]=input_data[\"text_col_clean\"].apply(lambda x:remove_duplicate_ws(x))"
   ]
  },
  {
   "cell_type": "code",
   "execution_count": 15,
   "metadata": {},
   "outputs": [],
   "source": [
    "#call the pre_processing function both for train and test datasets\n",
    "pre_processing(input_data=train, text_col=\"text\")\n",
    "pre_processing(input_data=test, text_col=\"text\")"
   ]
  },
  {
   "cell_type": "code",
   "execution_count": 16,
   "metadata": {},
   "outputs": [
    {
     "name": "stdout",
     "output_type": "stream",
     "text": [
      "Before Pre-processing:   but my bday is JUNE 19.. this is wack... and ihavent seen any promotions for my bday party  someone better finagle this asap!\n",
      "After Pre-processing:  bday june wack have not see promotion bday party well finagle asap\n",
      "Before Pre-processing:  23\n",
      "After Pre-processing:  12\n",
      "Sentiment of the text:  0\n"
     ]
    }
   ],
   "source": [
    "#check random text before and after pre-processing\n",
    "print(\"Before Pre-processing: \",train[\"text\"][300])\n",
    "print(\"After Pre-processing: \",train[\"text_col_clean\"][300])\n",
    "#print the sentence length before and after pre-processing\n",
    "print(\"Before Pre-processing: \",len(train[\"text\"][300].split()))\n",
    "print(\"After Pre-processing: \",len(train[\"text_col_clean\"][300].split()))\n",
    "#print the sentiment of the text\n",
    "print(\"Sentiment of the text: \",train[\"label\"][300])"
   ]
  },
  {
   "cell_type": "code",
   "execution_count": 17,
   "metadata": {},
   "outputs": [],
   "source": [
    "# Clean dataset\n",
    "train = train[['text_col_clean','label']]\n",
    "test = test[['text_col_clean','label']]\n",
    "\n",
    "# #sanity check\n",
    "# train.head()\n",
    "# test.head()\n",
    "# train.isnull().sum()\n",
    "# test.isnull().sum()\n",
    "\n",
    "# #reduce the sample size inorder to save time for our experiment.\n",
    "# train = train.sample(n=1000)\n",
    "# test = test.sample(n=1000)"
   ]
  },
  {
   "cell_type": "code",
   "execution_count": 18,
   "metadata": {},
   "outputs": [],
   "source": [
    "# Load train dataset and split into train and val dataset\n",
    "train_data, val_data = train_test_split(train, test_size=0.2, random_state=42)"
   ]
  },
  {
   "cell_type": "code",
   "execution_count": 19,
   "metadata": {},
   "outputs": [
    {
     "name": "stderr",
     "output_type": "stream",
     "text": [
      "Some weights of the model checkpoint at bert-base-uncased were not used when initializing BertForSequenceClassification: ['cls.predictions.transform.dense.bias', 'cls.seq_relationship.bias', 'cls.predictions.bias', 'cls.predictions.transform.dense.weight', 'cls.predictions.transform.LayerNorm.weight', 'cls.seq_relationship.weight', 'cls.predictions.decoder.weight', 'cls.predictions.transform.LayerNorm.bias']\n",
      "- This IS expected if you are initializing BertForSequenceClassification from the checkpoint of a model trained on another task or with another architecture (e.g. initializing a BertForSequenceClassification model from a BertForPreTraining model).\n",
      "- This IS NOT expected if you are initializing BertForSequenceClassification from the checkpoint of a model that you expect to be exactly identical (initializing a BertForSequenceClassification model from a BertForSequenceClassification model).\n",
      "Some weights of BertForSequenceClassification were not initialized from the model checkpoint at bert-base-uncased and are newly initialized: ['classifier.bias', 'classifier.weight']\n",
      "You should probably TRAIN this model on a down-stream task to be able to use it for predictions and inference.\n"
     ]
    }
   ],
   "source": [
    "# perparameters\n",
    "learning_rate = 2e-5\n",
    "max_length = 128\n",
    "batch_size = 8\n",
    "num_labels = 2\n",
    "epochs = 10\n",
    "\n",
    "pretrained_model = BertForSequenceClassification.from_pretrained('bert-base-uncased', num_labels=num_labels)\n",
    "tokenizer = BertTokenizer.from_pretrained('bert-base-uncased')\n",
    "loss_fn = nn.CrossEntropyLoss()"
   ]
  },
  {
   "cell_type": "code",
   "execution_count": 20,
   "metadata": {},
   "outputs": [],
   "source": [
    "class MyDataset(Dataset):\n",
    "    def __init__(self, data, tokenizer, max_length):\n",
    "        self.data = data\n",
    "        self.tokenizer = tokenizer\n",
    "        self.max_length = max_length\n",
    "    \n",
    "    def __len__(self):\n",
    "        return len(self.data)\n",
    "    \n",
    "    def __getitem__(self, index):\n",
    "        text = self.data.iloc[index]['text_col_clean'] # neec to change based on text pre-processing\n",
    "        label = self.data.iloc[index]['label']\n",
    "        encoding = self.tokenizer.encode_plus(\n",
    "            text, \n",
    "            max_length=self.max_length,\n",
    "            padding='max_length',\n",
    "            truncation=True,\n",
    "            return_tensors='pt')\n",
    "        return encoding['input_ids'][0], encoding['attention_mask'][0], label"
   ]
  },
  {
   "cell_type": "code",
   "execution_count": 21,
   "metadata": {},
   "outputs": [],
   "source": [
    "# Create datasets and data loaders for train val and test\n",
    "train_dataset = MyDataset(train_data, tokenizer, max_length)\n",
    "val_dataset = MyDataset(val_data, tokenizer, max_length)\n",
    "test_dataset = MyDataset(test, tokenizer, max_length)\n",
    "\n",
    "\n",
    "# #sanity check\n",
    "# train_dataset[5]\n",
    "# val_dataset[5]\n",
    "# test_dataset[5]"
   ]
  },
  {
   "cell_type": "code",
   "execution_count": 22,
   "metadata": {},
   "outputs": [],
   "source": [
    "class MyModel(pl.LightningModule):\n",
    "    def __init__(self, num_labels, batch_size, learning_rate):\n",
    "        super().__init__()\n",
    "        self.model = pretrained_model\n",
    "        self.num_classes = num_labels\n",
    "        self.loss_function = loss_fn\n",
    "        self.batch_size = batch_size\n",
    "        self.learning_rate = learning_rate\n",
    "           \n",
    "    def forward(self, input_ids, attention_mask):\n",
    "        output = self.model(input_ids=input_ids, attention_mask=attention_mask)\n",
    "        return output.logits\n",
    "    \n",
    "    def train_dataloader(self):\n",
    "        return DataLoader(train_dataset, batch_size=self.batch_size, shuffle=True, num_workers=2, drop_last=True)\n",
    "    \n",
    "    def val_dataloader(self):\n",
    "        return DataLoader(val_dataset, batch_size=self.batch_size, shuffle=False, num_workers=2, drop_last=True)\n",
    "    \n",
    "    def test_dataloader(self):\n",
    "        return DataLoader(test_dataset, batch_size=self.batch_size, shuffle=False, num_workers=2, drop_last=True)\n",
    "    \n",
    "    def training_step(self, batch, batch_idx):\n",
    "        input_ids, attention_mask, label = batch\n",
    "        output = self(input_ids, attention_mask)\n",
    "        loss = self.loss_function(output, label)\n",
    "        preds = torch.argmax(output, dim=1)\n",
    "        \n",
    "        #matrix calculation\n",
    "        accuracy = binary_accuracy(preds, label)\n",
    "        # f1_score = binary_f1_score(preds, label)\n",
    "        # recall = binary_recall(preds, label)\n",
    "        # precision = binary_precision(preds, label)\n",
    "        \n",
    "        #log the metrics\n",
    "        self.log(\"train_loss\", loss, prog_bar=True, logger=True)\n",
    "        self.log(\"train_accuracy\", accuracy, prog_bar=True, logger=True)\n",
    "        # self.log(\"train_f1\", f1_score, prog_bar=True, logger=True)\n",
    "        # self.log(\"train_recall\", recall, prog_bar=True, logger=True)\n",
    "        # self.log(\"train_precision\", precision, prog_bar=True, logger=True)\n",
    "        return {\"train_loss\":loss, \"train_accuracy\":accuracy}\n",
    "\n",
    "           \n",
    "    def validation_step(self, batch, batch_idx):\n",
    "        input_ids, attention_mask, label = batch\n",
    "        output = self(input_ids, attention_mask)\n",
    "        loss = self.loss_function(output, label)\n",
    "        preds = torch.argmax(output, dim=1)\n",
    "        \n",
    "        #matrix calculation\n",
    "        accuracy = binary_accuracy(preds, label)\n",
    "        # f1_score = binary_f1_score(preds, label)\n",
    "        # recall = binary_recall(preds, label)\n",
    "        # precision = binary_precision(preds, label)\n",
    "        \n",
    "        #log the metrics\n",
    "        self.log(\"val_loss\", loss, prog_bar=True, logger=True)\n",
    "        self.log(\"val_accuracy\", accuracy, prog_bar=True, logger=True)\n",
    "        # self.log(\"val_f1\", f1_score, prog_bar=True, logger=True)\n",
    "        # self.log(\"val_recall\", recall, prog_bar=True, logger=True)\n",
    "        # self.log(\"val_precision\", precision, prog_bar=True, logger=True)\n",
    "        return {\"val_loss\":loss, \"val_accuracy\":accuracy}\n",
    "\n",
    "    def test_step(self, batch, batch_idx):\n",
    "        input_ids, attention_mask, label = batch\n",
    "        output = self(input_ids, attention_mask)\n",
    "        loss = self.loss_function(output, label)\n",
    "        preds = torch.argmax(output, dim=1)\n",
    "        \n",
    "        #matrix calculation\n",
    "        accuracy = binary_accuracy(preds, label)\n",
    "        f1_score = binary_f1_score(preds, label)\n",
    "        recall = binary_recall(preds, label)\n",
    "        precision = binary_precision(preds, label)\n",
    "        confusion_matrix = binary_confusion_matrix(preds, label)\n",
    "        confusion_matrix = confusion_matrix.cpu().detach().numpy()\n",
    "        \n",
    "        #plot confusion matrix        \n",
    "        df_cm = pd.DataFrame(confusion_matrix, index = range(2), columns=range(2))\n",
    "        plt.figure(figsize = (10,7))\n",
    "        fig_ = sns.heatmap(df_cm, annot=True, cmap='Spectral').get_figure()\n",
    "        plt.close(fig_)\n",
    "    \n",
    "        #log the metrics\n",
    "        self.log(\"test_loss\", loss, prog_bar=True, logger=True)\n",
    "        self.log(\"test_accuracy\", accuracy, prog_bar=True, logger=True)\n",
    "        self.log(\"test_f1\", f1_score, prog_bar=True, logger=True)\n",
    "        self.log(\"test_recall\", recall, prog_bar=True, logger=True)\n",
    "        self.log(\"test_precision\", precision, prog_bar=True, logger=True)\n",
    "        self.logger.experiment.add_figure('confusion matrix', fig_, global_step=self.current_epoch)\n",
    "        return {\"test_loss\":loss, \"test_accuracy\":accuracy}\n",
    "          \n",
    "    def configure_optimizers(self):\n",
    "        optimizer = optim.Adam(self.parameters(), lr=self.learning_rate)\n",
    "        lr_scheduler = optim.lr_scheduler.ReduceLROnPlateau(optimizer, mode='min', factor=0.1, patience=3, verbose=True)\n",
    "        return {\n",
    "            'optimizer': optimizer,\n",
    "            'lr_scheduler': lr_scheduler,\n",
    "            'monitor': 'val_loss'\n",
    "        }"
   ]
  },
  {
   "cell_type": "code",
   "execution_count": 28,
   "metadata": {},
   "outputs": [
    {
     "name": "stderr",
     "output_type": "stream",
     "text": [
      "Global seed set to 42\n",
      "GPU available: True (cuda), used: True\n",
      "TPU available: False, using: 0 TPU cores\n",
      "IPU available: False, using: 0 IPUs\n",
      "HPU available: False, using: 0 HPUs\n"
     ]
    }
   ],
   "source": [
    "#ensure full reproducibility from run to run\n",
    "seed_everything(42, workers=True)\n",
    "model = MyModel(num_labels, batch_size, learning_rate)\n",
    "\n",
    "# Load the best model checkpoint\n",
    "checkpoint_callback = pl.callbacks.ModelCheckpoint(\n",
    "    monitor='val_loss',\n",
    "    dirpath='./best_model/',\n",
    "    filename='best_model'\n",
    ")\n",
    "\n",
    "# Custom loager. By default lightning_logs are generated. if you want to pass the custom logger then you have the pass logger=logger inside the trainer.\n",
    "# logger = TensorBoardLogger(\"logs/\", name=\"my_experiment\")\n",
    "\n",
    "# Early stoping\n",
    "# early_stop_callback = EarlyStopping(monitor=\"val_acc\", min_delta=0.00, patience=3, verbose=False, mode=\"max\")\n",
    "\n",
    "trainer = pl.Trainer(max_epochs=epochs, gpus=1, \n",
    "                     callbacks=[checkpoint_callback, LearningRateMonitor(), TQDMProgressBar(refresh_rate=5)], auto_lr_find=True, deterministic=True, auto_scale_batch_size=True)"
   ]
  },
  {
   "cell_type": "code",
   "execution_count": 29,
   "metadata": {},
   "outputs": [
    {
     "name": "stderr",
     "output_type": "stream",
     "text": [
      "LOCAL_RANK: 0 - CUDA_VISIBLE_DEVICES: [0,1]\n",
      "`Trainer.fit` stopped: `max_steps=3` reached.\n",
      "Batch size 2 succeeded, trying batch size 4\n",
      "`Trainer.fit` stopped: `max_steps=3` reached.\n",
      "Batch size 4 succeeded, trying batch size 8\n",
      "`Trainer.fit` stopped: `max_steps=3` reached.\n",
      "Batch size 8 succeeded, trying batch size 16\n",
      "`Trainer.fit` stopped: `max_steps=3` reached.\n",
      "Batch size 16 succeeded, trying batch size 32\n",
      "`Trainer.fit` stopped: `max_steps=3` reached.\n",
      "Batch size 32 succeeded, trying batch size 64\n",
      "`Trainer.fit` stopped: `max_steps=3` reached.\n",
      "Batch size 64 succeeded, trying batch size 128\n",
      "`Trainer.fit` stopped: `max_steps=3` reached.\n",
      "Batch size 128 succeeded, trying batch size 256\n",
      "Batch size 256 failed, trying batch size 128\n",
      "Finished batch size finder, will continue with full run using batch size 128\n",
      "Restoring states from the checkpoint path at /home/gist/wahid/.scale_batch_size_6d90c6d8-2885-475a-b036-7619bc718756.ckpt\n",
      "Restored all states from the checkpoint file at /home/gist/wahid/.scale_batch_size_6d90c6d8-2885-475a-b036-7619bc718756.ckpt\n"
     ]
    }
   ],
   "source": [
    "# fine the batch size automatically and update the model\n",
    "new_batch_size = trainer.tuner.scale_batch_size(model, mode='power')\n",
    "model.batch_size = new_batch_size"
   ]
  },
  {
   "cell_type": "code",
   "execution_count": 30,
   "metadata": {},
   "outputs": [
    {
     "name": "stderr",
     "output_type": "stream",
     "text": [
      "LOCAL_RANK: 0 - CUDA_VISIBLE_DEVICES: [0,1]\n"
     ]
    },
    {
     "data": {
      "application/vnd.jupyter.widget-view+json": {
       "model_id": "008c7dfd70934060922f34348b37c665",
       "version_major": 2,
       "version_minor": 0
      },
      "text/plain": [
       "Finding best initial lr:   0%|          | 0/100 [00:00<?, ?it/s]"
      ]
     },
     "metadata": {},
     "output_type": "display_data"
    },
    {
     "name": "stderr",
     "output_type": "stream",
     "text": [
      "LR finder stopped early after 92 steps due to diverging loss.\n",
      "Restoring states from the checkpoint path at /home/gist/wahid/.lr_find_0715c713-151f-4eaf-bbfb-b4cb957e43ee.ckpt\n",
      "Restored all states from the checkpoint file at /home/gist/wahid/.lr_find_0715c713-151f-4eaf-bbfb-b4cb957e43ee.ckpt\n"
     ]
    },
    {
     "name": "stdout",
     "output_type": "stream",
     "text": [
      "{'lr': [1e-08, 1.4454397707459274e-08, 1.7378008287493753e-08, 2.0892961308540398e-08, 2.51188643150958e-08, 3.019951720402016e-08, 3.630780547701014e-08, 4.36515832240166e-08, 5.248074602497726e-08, 6.309573444801934e-08, 7.585775750291837e-08, 9.120108393559096e-08, 1.0964781961431852e-07, 1.3182567385564074e-07, 1.5848931924611133e-07, 1.9054607179632475e-07, 2.2908676527677735e-07, 2.7542287033381663e-07, 3.311311214825911e-07, 3.9810717055349735e-07, 4.786300923226383e-07, 5.75439937337157e-07, 6.918309709189366e-07, 8.317637711026709e-07, 1e-06, 1.2022644346174132e-06, 1.445439770745928e-06, 1.7378008287493761e-06, 2.089296130854039e-06, 2.5118864315095797e-06, 3.0199517204020163e-06, 3.630780547701014e-06, 4.365158322401661e-06, 5.248074602497728e-06, 6.3095734448019305e-06, 7.585775750291836e-06, 9.120108393559096e-06, 1.0964781961431852e-05, 1.3182567385564076e-05, 1.584893192461114e-05, 1.9054607179632464e-05, 2.2908676527677725e-05, 2.7542287033381663e-05, 3.311311214825911e-05, 3.9810717055349735e-05, 4.786300923226385e-05, 5.7543993733715664e-05, 6.918309709189363e-05, 8.317637711026709e-05, 0.0001, 0.00012022644346174131, 0.0001445439770745928, 0.00017378008287493763, 0.0002089296130854041, 0.0002511886431509582, 0.0003019951720402019, 0.000363078054770101, 0.0004365158322401656, 0.0005248074602497723, 0.000630957344480193, 0.0007585775750291836, 0.0009120108393559097, 0.0010964781961431851, 0.0013182567385564075, 0.001584893192461114, 0.0019054607179632484, 0.0022908676527677745, 0.002754228703338169, 0.003311311214825908, 0.003981071705534969, 0.00478630092322638, 0.005754399373371567, 0.006918309709189364, 0.008317637711026709, 0.01, 0.012022644346174132, 0.01445439770745928, 0.017378008287493765, 0.02089296130854041, 0.025118864315095822, 0.030199517204020192, 0.036307805477010104, 0.04365158322401657, 0.05248074602497723, 0.0630957344480193, 0.07585775750291836, 0.09120108393559097, 0.10964781961431852, 0.13182567385564073, 0.15848931924611143, 0.19054607179632482, 0.2290867652767775], 'loss': [0.3979947530862052, 0.532605532172131, 0.5988695992133362, 0.6401848613962846, 0.6658833875536296, 0.6757719325812924, 0.6877843115964172, 0.6997848150995634, 0.7105719779053353, 0.7142464596734656, 0.7173682683877415, 0.720854495479987, 0.7253401332191877, 0.7273547642618813, 0.7300765721985722, 0.7302418358430086, 0.7359383736118904, 0.7381304631851294, 0.7405671099479025, 0.7407888468635744, 0.7406904325016072, 0.7379982808661929, 0.7372578293611721, 0.7351094756595614, 0.7374254667195175, 0.7359419719686106, 0.7373761891685631, 0.7384960495272889, 0.7394985775543012, 0.7383208842733328, 0.7375405030666742, 0.7370943859940399, 0.7368367034344592, 0.7349794208474327, 0.7342134228851931, 0.7321229337384318, 0.7311512443949736, 0.7291539788800929, 0.7272342545650031, 0.7260898451493727, 0.7236537413992756, 0.7220240980739433, 0.7201290265801075, 0.7171981794408291, 0.7139857244832196, 0.7105099961256099, 0.706528926255051, 0.7034481328298003, 0.6975417174383814, 0.6936455733270567, 0.6872736834129879, 0.6811784269352894, 0.6738127675740191, 0.6640869704557391, 0.6529189872846506, 0.6448671008193759, 0.6338325397577296, 0.6259198627324272, 0.6214814512690211, 0.6234460400153301, 0.6241841420928815, 0.6229144963230817, 0.623355486501091, 0.6345122429289086, 0.6339187192731688, 0.6359132227625721, 0.643604684831094, 0.6555499876080237, 0.6582790030095733, 0.6620321791598212, 0.6730188095923043, 0.7132993684947553, 0.7153013299645197, 0.714710533710852, 0.7179970781628464, 0.7326429296126421, 0.750459744888309, 0.7582584482880264, 0.7710563980361894, 0.7801440070444254, 0.7977944836490128, 0.8334261821440674, 0.8690100646521834, 0.8740690614550682, 0.9437628578076913, 1.0176930139666953, 1.024437241506939, 1.1958131255411573, 1.2955505724154726, 1.384831385462442, 1.5418940021374918, 1.8043753644071132]}\n"
     ]
    },
    {
     "data": {
      "image/png": "[encoded data removed]",
      "text/plain": [
       "<Figure size 640x480 with 1 Axes>"
      ]
     },
     "metadata": {},
     "output_type": "display_data"
    }
   ],
   "source": [
    "# Run learning rate finder\n",
    "lr_finder = trainer.tuner.lr_find(model)\n",
    "\n",
    "# Results can be found in\n",
    "print(lr_finder.results)\n",
    "\n",
    "# Plot with\n",
    "fig = lr_finder.plot(suggest=True)\n",
    "fig.show()"
   ]
  },
  {
   "cell_type": "code",
   "execution_count": 31,
   "metadata": {},
   "outputs": [
    {
     "name": "stdout",
     "output_type": "stream",
     "text": [
      "new learning rate:  0.0002089296130854041\n"
     ]
    }
   ],
   "source": [
    "# Pick point based on plot, or get suggestion\n",
    "new_lr = lr_finder.suggestion()\n",
    "print(\"new learning rate: \", new_lr)\n",
    "\n",
    "# # update hparams of the model\n",
    "# model.hparams.lr = new_lr\n",
    "\n",
    "#updat the learning rate of the model\n",
    "model.configure_optimizers = lambda: optim.Adam(model.parameters(), lr=new_lr)"
   ]
  },
  {
   "cell_type": "code",
   "execution_count": 32,
   "metadata": {},
   "outputs": [
    {
     "name": "stderr",
     "output_type": "stream",
     "text": [
      "LOCAL_RANK: 0 - CUDA_VISIBLE_DEVICES: [0,1]\n",
      "\n",
      "  | Name          | Type                          | Params\n",
      "----------------------------------------------------------------\n",
      "0 | model         | BertForSequenceClassification | 109 M \n",
      "1 | loss_function | CrossEntropyLoss              | 0     \n",
      "----------------------------------------------------------------\n",
      "109 M     Trainable params\n",
      "0         Non-trainable params\n",
      "109 M     Total params\n",
      "437.935   Total estimated model params size (MB)\n"
     ]
    },
    {
     "data": {
      "application/vnd.jupyter.widget-view+json": {
       "model_id": "2557e244821b42cf85569f39e284b86f",
       "version_major": 2,
       "version_minor": 0
      },
      "text/plain": [
       "Sanity Checking: 0it [00:00, ?it/s]"
      ]
     },
     "metadata": {},
     "output_type": "display_data"
    },
    {
     "data": {
      "application/vnd.jupyter.widget-view+json": {
       "model_id": "b5a70623cf554391a349e124ef52e24f",
       "version_major": 2,
       "version_minor": 0
      },
      "text/plain": [
       "Training: 0it [00:00, ?it/s]"
      ]
     },
     "metadata": {},
     "output_type": "display_data"
    },
    {
     "data": {
      "application/vnd.jupyter.widget-view+json": {
       "model_id": "bd08f17708f042e5bfa7347e015571fb",
       "version_major": 2,
       "version_minor": 0
      },
      "text/plain": [
       "Validation: 0it [00:00, ?it/s]"
      ]
     },
     "metadata": {},
     "output_type": "display_data"
    },
    {
     "data": {
      "application/vnd.jupyter.widget-view+json": {
       "model_id": "915913aa03094602afbb59987d66adeb",
       "version_major": 2,
       "version_minor": 0
      },
      "text/plain": [
       "Validation: 0it [00:00, ?it/s]"
      ]
     },
     "metadata": {},
     "output_type": "display_data"
    },
    {
     "data": {
      "application/vnd.jupyter.widget-view+json": {
       "model_id": "33c9d26180cc42a0b1f791073eb47d2b",
       "version_major": 2,
       "version_minor": 0
      },
      "text/plain": [
       "Validation: 0it [00:00, ?it/s]"
      ]
     },
     "metadata": {},
     "output_type": "display_data"
    },
    {
     "data": {
      "application/vnd.jupyter.widget-view+json": {
       "model_id": "a064756ec9654c07981b0609d1941d7a",
       "version_major": 2,
       "version_minor": 0
      },
      "text/plain": [
       "Validation: 0it [00:00, ?it/s]"
      ]
     },
     "metadata": {},
     "output_type": "display_data"
    },
    {
     "data": {
      "application/vnd.jupyter.widget-view+json": {
       "model_id": "ea86e3dfdfe64ce5a126bae12a67acdf",
       "version_major": 2,
       "version_minor": 0
      },
      "text/plain": [
       "Validation: 0it [00:00, ?it/s]"
      ]
     },
     "metadata": {},
     "output_type": "display_data"
    },
    {
     "data": {
      "application/vnd.jupyter.widget-view+json": {
       "model_id": "18d6dde14a46413d8563c9e4ccdb33da",
       "version_major": 2,
       "version_minor": 0
      },
      "text/plain": [
       "Validation: 0it [00:00, ?it/s]"
      ]
     },
     "metadata": {},
     "output_type": "display_data"
    },
    {
     "data": {
      "application/vnd.jupyter.widget-view+json": {
       "model_id": "a13406a7a66147269eae523b0aecd915",
       "version_major": 2,
       "version_minor": 0
      },
      "text/plain": [
       "Validation: 0it [00:00, ?it/s]"
      ]
     },
     "metadata": {},
     "output_type": "display_data"
    },
    {
     "data": {
      "application/vnd.jupyter.widget-view+json": {
       "model_id": "2085234fea2d49778e991da95130b27d",
       "version_major": 2,
       "version_minor": 0
      },
      "text/plain": [
       "Validation: 0it [00:00, ?it/s]"
      ]
     },
     "metadata": {},
     "output_type": "display_data"
    },
    {
     "data": {
      "application/vnd.jupyter.widget-view+json": {
       "model_id": "a8af6253dd90415db14edfb8edd1a3f4",
       "version_major": 2,
       "version_minor": 0
      },
      "text/plain": [
       "Validation: 0it [00:00, ?it/s]"
      ]
     },
     "metadata": {},
     "output_type": "display_data"
    },
    {
     "data": {
      "application/vnd.jupyter.widget-view+json": {
       "model_id": "f1bcc1c95acd4c34b8b62eacec8f03df",
       "version_major": 2,
       "version_minor": 0
      },
      "text/plain": [
       "Validation: 0it [00:00, ?it/s]"
      ]
     },
     "metadata": {},
     "output_type": "display_data"
    },
    {
     "name": "stderr",
     "output_type": "stream",
     "text": [
      "`Trainer.fit` stopped: `max_epochs=10` reached.\n"
     ]
    }
   ],
   "source": [
    "# Training: This is the basic use of the trainer\n",
    "trainer.fit(model, model.train_dataloader(), model.val_dataloader())"
   ]
  },
  {
   "cell_type": "code",
   "execution_count": 33,
   "metadata": {},
   "outputs": [
    {
     "name": "stderr",
     "output_type": "stream",
     "text": [
      "LOCAL_RANK: 0 - CUDA_VISIBLE_DEVICES: [0,1]\n"
     ]
    },
    {
     "data": {
      "application/vnd.jupyter.widget-view+json": {
       "model_id": "9cf93c2f3afa40c7b968a77fc664bd86",
       "version_major": 2,
       "version_minor": 0
      },
      "text/plain": [
       "Validation: 0it [00:00, ?it/s]"
      ]
     },
     "metadata": {},
     "output_type": "display_data"
    },
    {
     "name": "stdout",
     "output_type": "stream",
     "text": [
      "────────────────────────────────────────────────────────────────────────────────────────────────────────────────────────\n",
      "     Validate metric           DataLoader 0\n",
      "────────────────────────────────────────────────────────────────────────────────────────────────────────────────────────\n",
      "      val_accuracy          0.8628125190734863\n",
      "        val_loss            0.5318986773490906\n",
      "────────────────────────────────────────────────────────────────────────────────────────────────────────────────────────\n"
     ]
    },
    {
     "data": {
      "text/plain": [
       "[{'val_loss': 0.5318986773490906, 'val_accuracy': 0.8628125190734863}]"
      ]
     },
     "execution_count": 33,
     "metadata": {},
     "output_type": "execute_result"
    }
   ],
   "source": [
    "# Validation: Perform an evaluation epoch over the validation set, outside of the training loop\n",
    "trainer.validate(model, model.val_dataloader())"
   ]
  },
  {
   "cell_type": "code",
   "execution_count": 34,
   "metadata": {},
   "outputs": [
    {
     "name": "stderr",
     "output_type": "stream",
     "text": [
      "LOCAL_RANK: 0 - CUDA_VISIBLE_DEVICES: [0,1]\n"
     ]
    },
    {
     "data": {
      "application/vnd.jupyter.widget-view+json": {
       "model_id": "be0ac462d5ac4f619007ce4b9f4ac031",
       "version_major": 2,
       "version_minor": 0
      },
      "text/plain": [
       "Testing: 0it [00:00, ?it/s]"
      ]
     },
     "metadata": {},
     "output_type": "display_data"
    },
    {
     "name": "stdout",
     "output_type": "stream",
     "text": [
      "────────────────────────────────────────────────────────────────────────────────────────────────────────────────────────\n",
      "       Test metric             DataLoader 0\n",
      "────────────────────────────────────────────────────────────────────────────────────────────────────────────────────────\n",
      "      test_accuracy            0.89794921875\n",
      "         test_f1            0.9012746810913086\n",
      "        test_loss           0.2594478130340576\n",
      "     test_precision         0.9016696214675903\n",
      "       test_recall           0.902188777923584\n",
      "────────────────────────────────────────────────────────────────────────────────────────────────────────────────────────\n"
     ]
    },
    {
     "data": {
      "text/plain": [
       "[{'test_loss': 0.2594478130340576,\n",
       "  'test_accuracy': 0.89794921875,\n",
       "  'test_f1': 0.9012746810913086,\n",
       "  'test_recall': 0.902188777923584,\n",
       "  'test_precision': 0.9016696214675903}]"
      ]
     },
     "execution_count": 34,
     "metadata": {},
     "output_type": "execute_result"
    }
   ],
   "source": [
    "# Load the best model checkpoint for testing\n",
    "best_model = MyModel.load_from_checkpoint(checkpoint_callback.best_model_path, num_labels=num_labels, batch_size=batch_size, learning_rate=learning_rate)\n",
    "\n",
    "# Test the model using the test loader\n",
    "trainer.test(best_model, model.test_dataloader())"
   ]
  },
  {
   "cell_type": "code",
   "execution_count": 1,
   "metadata": {},
   "outputs": [],
   "source": [
    "# run this \"tensorboard --logdir=lightning_logs/\" in the terminal to see the logs"
   ]
  }
 ],
 "metadata": {
  "kernelspec": {
   "display_name": "wahid_env",
   "language": "python",
   "name": "python3"
  },
  "language_info": {
   "codemirror_mode": {
    "name": "ipython",
    "version": 3
   },
   "file_extension": ".py",
   "mimetype": "text/x-python",
   "name": "python",
   "nbconvert_exporter": "python",
   "pygments_lexer": "ipython3",
   "version": "3.9.16"
  },
  "orig_nbformat": 4
 },
 "nbformat": 4,
 "nbformat_minor": 2
}
